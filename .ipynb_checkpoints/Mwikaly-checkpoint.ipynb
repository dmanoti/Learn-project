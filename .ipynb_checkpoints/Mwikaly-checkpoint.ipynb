{
 "cells": [
  {
   "cell_type": "code",
   "execution_count": 7,
   "id": "04d0f35d",
   "metadata": {},
   "outputs": [],
   "source": [
    "counts=[5,2,6,3,4]\n",
    "mean=sum(counts)/len(counts)"
   ]
  },
  {
   "cell_type": "code",
   "execution_count": 10,
   "id": "34e701f3",
   "metadata": {},
   "outputs": [],
   "source": [
    "counts=[5,2,6,3,4]\n",
    "def compute_mean(arr):\n",
    "    return sum(arr)/len(arr)"
   ]
  },
  {
   "cell_type": "code",
   "execution_count": 14,
   "id": "6a8f2bfd",
   "metadata": {},
   "outputs": [],
   "source": [
    "import numpy as np\n",
    "counts=[5,2,6,3,4]\n",
    "mean=np.mean(counts)\n",
    "logs=np.log(counts)\n",
    "cosines=np.cos(counts)\n"
   ]
  },
  {
   "cell_type": "code",
   "execution_count": null,
   "id": "be54464c",
   "metadata": {},
   "outputs": [],
   "source": []
  }
 ],
 "metadata": {
  "kernelspec": {
   "display_name": "Python 3 (ipykernel)",
   "language": "python",
   "name": "python3"
  },
  "language_info": {
   "codemirror_mode": {
    "name": "ipython",
    "version": 3
   },
   "file_extension": ".py",
   "mimetype": "text/x-python",
   "name": "python",
   "nbconvert_exporter": "python",
   "pygments_lexer": "ipython3",
   "version": "3.9.12"
  }
 },
 "nbformat": 4,
 "nbformat_minor": 5
}
